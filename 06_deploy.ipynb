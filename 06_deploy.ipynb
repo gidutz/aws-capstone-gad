{
 "cells": [
  {
   "cell_type": "markdown",
   "metadata": {},
   "source": [
    "# Deploying the model"
   ]
  },
  {
   "cell_type": "markdown",
   "metadata": {},
   "source": [
    "<p>&nbsp;</p>\n",
    "<p><span style=\"font-weight: 400;\">Our data science team is very happy with the results. They were able to build a dataset, create features, train multiple models, conduct hyper parameter optimization, receive an AUC of almost 1.0 (!), evaluate the model and make sure it&rsquo;s not overfitting. The management thinks that they must have worked so hard to achieve it, but in fact, it was very easy to achieve with AWS&rsquo;s ML and Data ecosystem :)</span></p>\n",
    "<p>&nbsp;</p>\n",
    "<p><span style=\"font-weight: 400;\">Now, before collecting their project bonus they just need to make sure they deliver valuable products to the company&rsquo;s business. In order to do that they would be required to achieve the following:</span></p>\n",
    "<ul>\n",
    "<li><span style=\"color: #333399;\"><strong>Deploy the model to production</strong></span><span style=\"font-weight: 400;\"> -&nbsp; make sure the deployment leverages the insights from the analysis, train the model on the entire data available (Train+Test) while decreasing the amount of regularization used.</span></li>\n",
    "<li><span style=\"color: #333399;\"><strong>Track versions of the models in production</strong></span></li>\n",
    "<li><span style=\"color: #333399;\"><strong>Monitor predictions on incoming data </strong></span><span style=\"font-weight: 400;\">- keep track of the new samples that come in. Identify when the accuracy drops and analyze the cause.</span></li>\n",
    "<li><strong><span style=\"color: #333399;\">Secure model artifacts</span> </strong>- <span style=\"font-weight: 400;\">protect the company&rsquo;s IP by making sure that only authorized calls can invoke the model and protect the data.</span></li>\n",
    "<li><span style=\"color: #333399;\"><strong>Stabilize the service</strong></span> - increase the reliability of the serving layer in order to serve incoming requests with high reliability and low latency. Avoid local service disruptions implications on the application and scale up and down according to the influx of requests.</li>\n",
    "</ul>"
   ]
  },
  {
   "cell_type": "code",
   "execution_count": 1,
   "metadata": {},
   "outputs": [],
   "source": [
    "import yaml\n",
    "from sqlalchemy import create_engine, text\n",
    "import pandas as pd\n",
    "from datetime import datetime\n",
    "import boto3\n",
    "import re\n",
    "import os\n",
    "import json\n",
    "from sagemaker.estimator import Estimator\n",
    "from sagemaker import get_execution_role, session, Session\n",
    "from sagemaker.model_monitor import ModelQualityMonitor\n",
    "from sagemaker.inputs import TrainingInput\n",
    "from sagemaker import image_uris\n",
    "role = get_execution_role()\n",
    "session = Session()\n",
    "region = boto3.Session().region_name\n"
   ]
  },
  {
   "cell_type": "markdown",
   "metadata": {},
   "source": [
    "## Train the model for production "
   ]
  },
  {
   "cell_type": "markdown",
   "metadata": {},
   "source": [
    "<p><span style=\"font-weight: 400;\">When training the model to production, the team utilizes the optimal parameters found using AWS SageMaker&rsquo;s Hyperparameter Optimization service. They now also include in the training set the data from the original train and test data. A few points they keep in mind:</span></p>\n",
    "<ul>\n",
    "<li style=\"font-weight: 400;\" aria-level=\"1\"><span style=\"font-weight: 400;\">The model is trained under a<strong> different AWS account</strong>, using different resources used for the research phase (bucket, artifacts etc).</span></li>\n",
    "<li style=\"font-weight: 400;\" aria-level=\"1\"><span style=\"font-weight: 400;\">The training data is now increased and may require distributed training. The training set will be split into smaller parts in order to allow <span style=\"color: #ff6600;\"><strong>SageMaker&rsquo;s distributed</strong></span> version of <strong>XGBoost</strong> to be trained efficiently. </span></li>\n",
    "</ul>"
   ]
  },
  {
   "cell_type": "markdown",
   "metadata": {},
   "source": [
    "### Load the entire dataset and split it to shards "
   ]
  },
  {
   "cell_type": "code",
   "execution_count": 2,
   "metadata": {},
   "outputs": [],
   "source": [
    "conf = yaml.load(open('./vars.yaml', 'r'))\n",
    "rs_username = conf['REDSHIFT_USER']\n",
    "rs_password = conf['REDSHIFT_PASSWORD']\n",
    "rs_db = conf['REDSHIFT_DB']\n",
    "rs_host = conf['REDSHIFT_HOST']\n",
    "bucket = conf['PROD_BUCKET']"
   ]
  },
  {
   "cell_type": "code",
   "execution_count": 3,
   "metadata": {},
   "outputs": [],
   "source": [
    "engine = create_engine(f'redshift+psycopg2://{rs_username}:{rs_password}@{rs_host}:5439/{rs_db}')"
   ]
  },
  {
   "cell_type": "code",
   "execution_count": 4,
   "metadata": {},
   "outputs": [],
   "source": [
    "sql_get_dataset = '''\n",
    "SELECT\n",
    "isfraud\n",
    ", amount\n",
    ", diff_dest_equal_amount\n",
    ", diff_origin_equal_amount\n",
    ", is_cash_in\n",
    ", is_cash_out\n",
    ", is_debit\n",
    ", is_payment\n",
    ", is_transfer\n",
    ", namedest_c\n",
    ", nameorig_c\n",
    ", newbalancedest\n",
    ", newbalanceorig\n",
    ", oldbalancedest\n",
    ", oldbalanceorg\n",
    ", step\n",
    "FROM dataset\n",
    "WHERE step <= 399\n",
    "'''"
   ]
  },
  {
   "cell_type": "code",
   "execution_count": 5,
   "metadata": {},
   "outputs": [],
   "source": [
    "df = pd.read_sql(sql_get_dataset, con=engine)"
   ]
  },
  {
   "cell_type": "code",
   "execution_count": 6,
   "metadata": {},
   "outputs": [],
   "source": [
    "idxs = pd.Series(df.index).quantile([0,0.2,0.4,0.6,0.8,1]).astype(int).tolist()"
   ]
  },
  {
   "cell_type": "code",
   "execution_count": 7,
   "metadata": {},
   "outputs": [],
   "source": [
    "train_path = f's3://{bucket}/train/'"
   ]
  },
  {
   "cell_type": "code",
   "execution_count": 8,
   "metadata": {},
   "outputs": [],
   "source": [
    "def save_df(df_to_save, part):\n",
    "    save_path = os.path.join(train_path, f'train_{part}.csv')\n",
    "    df_to_save.drop('step', axis=1).to_csv(save_path , index=False, header=None)\n",
    "    \n",
    "for part in range(len(idxs) - 1):\n",
    "    save_df(df.iloc[idxs[part]:idxs[part+1]], part)"
   ]
  },
  {
   "cell_type": "markdown",
   "metadata": {},
   "source": [
    "### Submit a distributed training job"
   ]
  },
  {
   "cell_type": "code",
   "execution_count": 9,
   "metadata": {},
   "outputs": [],
   "source": [
    "s3_input_train = TrainingInput(s3_data=train_path, content_type='csv',distribution='ShardedByS3Key')"
   ]
  },
  {
   "cell_type": "code",
   "execution_count": 10,
   "metadata": {},
   "outputs": [],
   "source": [
    "container = image_uris.retrieve('xgboost', boto3.Session().region_name, 'latest')"
   ]
  },
  {
   "cell_type": "code",
   "execution_count": 11,
   "metadata": {},
   "outputs": [],
   "source": [
    "xgb = Estimator(container, role,  instance_count=5,  instance_type='ml.m4.xlarge', \n",
    "                output_path=f's3://{bucket}/models/output', sagemaker_session=session)"
   ]
  },
  {
   "cell_type": "code",
   "execution_count": 12,
   "metadata": {},
   "outputs": [],
   "source": [
    "xgb.set_hyperparameters(eval_metric='auc',\n",
    "                        objective='binary:logistic',\n",
    "                        num_round=1000,\n",
    "                        rate_drop=0.3,\n",
    "                        eta=0.7686093376581404,\n",
    "                        min_child_weight=29.85,\n",
    "                        alpha=0.6698792306761945,\n",
    "                        max_depth=13)"
   ]
  },
  {
   "cell_type": "code",
   "execution_count": 13,
   "metadata": {},
   "outputs": [],
   "source": [
    "training_job = xgb.fit(inputs={'train': s3_input_train, 'validation': s3_input_train}, wait=False)"
   ]
  },
  {
   "cell_type": "markdown",
   "metadata": {},
   "source": [
    "## Managing models in production"
   ]
  },
  {
   "cell_type": "code",
   "execution_count": 14,
   "metadata": {},
   "outputs": [],
   "source": [
    "sm_client = boto3.client('sagemaker', region_name=region)"
   ]
  },
  {
   "cell_type": "markdown",
   "metadata": {},
   "source": [
    "### Group the model packages "
   ]
  },
  {
   "cell_type": "code",
   "execution_count": 34,
   "metadata": {},
   "outputs": [
    {
     "name": "stdout",
     "output_type": "stream",
     "text": [
      "ModelPackageGroup Arn : arn:aws:sagemaker:us-east-1:404163662382:model-package-group/fraud-detector-model-group-capstone\n"
     ]
    }
   ],
   "source": [
    "model_package_group_name = \"fraud-detector-model-group-capstone\"\n",
    "model_package_group_input_dict = {\n",
    " \"ModelPackageGroupName\" : model_package_group_name,\n",
    " \"ModelPackageGroupDescription\" : \"Fraud detection algorithhm model group\"\n",
    "}\n",
    "\n",
    "create_model_pacakge_group_response = sm_client.create_model_package_group(**model_package_group_input_dict)\n",
    "print('ModelPackageGroup Arn : {}'.format(create_model_pacakge_group_response['ModelPackageGroupArn']))"
   ]
  },
  {
   "cell_type": "code",
   "execution_count": 35,
   "metadata": {},
   "outputs": [],
   "source": [
    "package_name = 'fraud-detector-model-package'"
   ]
  },
  {
   "cell_type": "code",
   "execution_count": 36,
   "metadata": {},
   "outputs": [],
   "source": [
    "location_of_inference_image = '811284229777.dkr.ecr.us-east-1.amazonaws.com/xgboost:latest'\n",
    "location_of_model_artifacts = f's3://{bucket}/models/output/xgboost-2021-01-07-22-53-51-919/output/model.tar.gz'"
   ]
  },
  {
   "cell_type": "code",
   "execution_count": 37,
   "metadata": {},
   "outputs": [],
   "source": [
    "modelpackage_inference_specification =  { \n",
    "    \"InferenceSpecification\": {    \n",
    "      \"Containers\": [ { \"Image\": location_of_inference_image,\n",
    "                      \"ModelDataUrl\": location_of_model_artifacts}],\n",
    "      \"SupportedContentTypes\": [ \"text/csv\" ],\n",
    "      \"SupportedResponseMIMETypes\": [ \"text/csv\" ],\n",
    "   }\n",
    " }"
   ]
  },
  {
   "cell_type": "code",
   "execution_count": 38,
   "metadata": {},
   "outputs": [],
   "source": [
    "create_model_package_input_dict = {\n",
    "    \"ModelPackageGroupName\" : model_package_group_name,\n",
    "    \"ModelApprovalStatus\" : \"PendingManualApproval\"\n",
    "}\n",
    "create_model_package_input_dict.update(modelpackage_inference_specification)"
   ]
  },
  {
   "cell_type": "code",
   "execution_count": 39,
   "metadata": {},
   "outputs": [
    {
     "name": "stdout",
     "output_type": "stream",
     "text": [
      "ModelPackage Version ARN : arn:aws:sagemaker:us-east-1:404163662382:model-package/fraud-detector-model-group-capstone/1\n"
     ]
    }
   ],
   "source": [
    "create_mode_package_response = sm_client.create_model_package(**create_model_package_input_dict)\n",
    "model_package_arn = create_mode_package_response[\"ModelPackageArn\"]\n",
    "print('ModelPackage Version ARN : {}'.format(model_package_arn))"
   ]
  },
  {
   "cell_type": "code",
   "execution_count": 40,
   "metadata": {},
   "outputs": [],
   "source": [
    "# Approve model package\n",
    "model_package_update_input_dict = {\n",
    "    \"ModelPackageArn\" : model_package_arn,\n",
    "    \"ModelApprovalStatus\" : \"Approved\"\n",
    "}\n",
    "model_package_update_response = sm_client.update_model_package(**model_package_update_input_dict)"
   ]
  },
  {
   "cell_type": "code",
   "execution_count": 41,
   "metadata": {},
   "outputs": [
    {
     "name": "stdout",
     "output_type": "stream",
     "text": [
      "Model name : fraud-detection-model-2021-01-10-16-39-34\n",
      "Model arn : arn:aws:sagemaker:us-east-1:404163662382:model/fraud-detection-model-2021-01-10-16-39-34\n"
     ]
    }
   ],
   "source": [
    "model_name = 'fraud-detection-model-' + datetime.utcnow().strftime(\"%Y-%m-%d-%H-%M-%S\")\n",
    "print(\"Model name : {}\".format(model_name))\n",
    "primary_container = {\n",
    "    'ModelPackageName': model_package_arn,\n",
    "}\n",
    "create_model_respose = sm_client.create_model(\n",
    "    ModelName = model_name,\n",
    "    ExecutionRoleArn = role,\n",
    "    PrimaryContainer = primary_container\n",
    ")\n",
    "print(\"Model arn : {}\".format(create_model_respose[\"ModelArn\"]))"
   ]
  },
  {
   "cell_type": "markdown",
   "metadata": {},
   "source": [
    "### Endpoint configuration "
   ]
  },
  {
   "cell_type": "code",
   "execution_count": 42,
   "metadata": {},
   "outputs": [],
   "source": [
    "from sagemaker.model_monitor import DataCaptureConfig"
   ]
  },
  {
   "cell_type": "code",
   "execution_count": 43,
   "metadata": {},
   "outputs": [],
   "source": [
    "data_capture_uri = f's3://{bucket}/data/samples_capture'"
   ]
  },
  {
   "cell_type": "code",
   "execution_count": 44,
   "metadata": {},
   "outputs": [
    {
     "name": "stdout",
     "output_type": "stream",
     "text": [
      "fraud-detection-EndpointConfig-2021-01-10-16-39-39\n"
     ]
    }
   ],
   "source": [
    "endpoint_config_name = 'fraud-detection-EndpointConfig-' + datetime.utcnow().strftime(\"%Y-%m-%d-%H-%M-%S\")\n",
    "print(endpoint_config_name)"
   ]
  },
  {
   "cell_type": "code",
   "execution_count": 45,
   "metadata": {},
   "outputs": [],
   "source": [
    "prod_vars = [{'VariantName': 'AllTraffic',\n",
    "              'ModelName': model_name,\n",
    "              'InitialInstanceCount': 1,\n",
    "              'InstanceType':'ml.m4.xlarge',\n",
    "              'InitialVariantWeight':1,}]"
   ]
  },
  {
   "cell_type": "code",
   "execution_count": 52,
   "metadata": {},
   "outputs": [],
   "source": [
    "data_capture_configuration = {\n",
    "    \"EnableCapture\": True,\n",
    "    \"InitialSamplingPercentage\": 100,\n",
    "    \"DestinationS3Uri\": data_capture_uri,\n",
    "    \"CaptureOptions\": [\n",
    "        { \"CaptureMode\": \"Output\" },\n",
    "        { \"CaptureMode\": \"Input\" }\n",
    "    ],\n",
    "    \"CaptureContentTypeHeader\": {\n",
    "       \"CsvContentTypes\": [\"text/csv\"],\n",
    "       \"JsonContentTypes\": [\"application/json\"]\n",
    "}}"
   ]
  },
  {
   "cell_type": "code",
   "execution_count": 53,
   "metadata": {},
   "outputs": [],
   "source": [
    "endpoint_conf = sm_client.create_endpoint_config(\n",
    "      EndpointConfigName=endpoint_config_name,\n",
    "      ProductionVariants=prod_vars ,\n",
    "      DataCaptureConfig=data_capture_configuration)"
   ]
  },
  {
   "cell_type": "code",
   "execution_count": 54,
   "metadata": {},
   "outputs": [
    {
     "name": "stdout",
     "output_type": "stream",
     "text": [
      "EndpointName=fraud-detection-endpoint-2021-01-10-16-42-59\n",
      "arn:aws:sagemaker:us-east-1:404163662382:endpoint/fraud-detection-endpoint-2021-01-10-16-42-59\n"
     ]
    }
   ],
   "source": [
    "endpoint_name = 'fraud-detection-endpoint-' + datetime.utcnow().strftime(\"%Y-%m-%d-%H-%M-%S\")\n",
    "print(\"EndpointName={}\".format(endpoint_name))\n",
    "\n",
    "create_endpoint_response = sm_client.create_endpoint(\n",
    "    EndpointName=endpoint_name,\n",
    "    EndpointConfigName=endpoint_config_name)\n",
    "print(create_endpoint_response['EndpointArn'])"
   ]
  },
  {
   "cell_type": "markdown",
   "metadata": {},
   "source": [
    "## Use the endpoint!"
   ]
  },
  {
   "cell_type": "code",
   "execution_count": 55,
   "metadata": {},
   "outputs": [],
   "source": [
    "import io\n",
    "from io import StringIO"
   ]
  },
  {
   "cell_type": "code",
   "execution_count": 56,
   "metadata": {},
   "outputs": [],
   "source": [
    "runtime = boto3.Session().client('sagemaker-runtime')"
   ]
  },
  {
   "cell_type": "code",
   "execution_count": 57,
   "metadata": {},
   "outputs": [],
   "source": [
    "new_data_path = f\"s3://{conf['DATA_BUCKET']}/data/new_data/new_data.csv\"\n",
    "df_new_data = pd.read_csv(new_data_path, header=None)\n",
    "df_new_data.columns = ['isfraud', 'amount', 'diff_dest_equal_amount', 'diff_origin_equal_amount',\n",
    "                       'is_cash_in', 'is_cash_out', 'is_debit', 'is_payment',\n",
    "                       'is_transfer', 'namedest_c', 'nameorig_c', 'newbalancedest', \n",
    "                       'newbalanceorig', 'oldbalancedest', 'oldbalanceorg']"
   ]
  },
  {
   "cell_type": "code",
   "execution_count": 58,
   "metadata": {},
   "outputs": [],
   "source": [
    "csv_file = io.StringIO()\n",
    "df_new_data.drop('isfraud', axis=1).sample(15).to_csv(csv_file, header=False, index=False)\n",
    "payload_data = csv_file.getvalue()"
   ]
  },
  {
   "cell_type": "code",
   "execution_count": 61,
   "metadata": {},
   "outputs": [],
   "source": [
    "response = runtime.invoke_endpoint(EndpointName=endpoint_name, ContentType='text/csv', Body=payload_data)\n",
    "csv_file.close()"
   ]
  },
  {
   "cell_type": "code",
   "execution_count": 62,
   "metadata": {},
   "outputs": [],
   "source": [
    "results = response['Body'].read().decode().split(',')\n",
    "results = [float (x) for x in results]"
   ]
  },
  {
   "cell_type": "code",
   "execution_count": 63,
   "metadata": {},
   "outputs": [
    {
     "data": {
      "text/plain": [
       "[3.30434249918e-06,\n",
       " 9.0295515065e-07,\n",
       " 3.90222612623e-06,\n",
       " 4.32596752944e-05,\n",
       " 3.90222612623e-06,\n",
       " 3.90222612623e-06,\n",
       " 7.93489743955e-06,\n",
       " 1.59437888669e-06,\n",
       " 3.90222612623e-06,\n",
       " 1.38526747833e-05,\n",
       " 3.90222612623e-06,\n",
       " 3.06003948936e-06,\n",
       " 7.14734414942e-06,\n",
       " 1.2759420315e-05,\n",
       " 9.10034486878e-06]"
      ]
     },
     "execution_count": 63,
     "metadata": {},
     "output_type": "execute_result"
    }
   ],
   "source": [
    "results"
   ]
  },
  {
   "cell_type": "code",
   "execution_count": null,
   "metadata": {},
   "outputs": [],
   "source": []
  }
 ],
 "metadata": {
  "kernelspec": {
   "display_name": "conda_python3",
   "language": "python",
   "name": "conda_python3"
  },
  "language_info": {
   "codemirror_mode": {
    "name": "ipython",
    "version": 3
   },
   "file_extension": ".py",
   "mimetype": "text/x-python",
   "name": "python",
   "nbconvert_exporter": "python",
   "pygments_lexer": "ipython3",
   "version": "3.6.10"
  }
 },
 "nbformat": 4,
 "nbformat_minor": 4
}
