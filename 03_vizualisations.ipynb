{
 "cells": [
  {
   "cell_type": "markdown",
   "metadata": {},
   "source": [
    "# Visualizing the data "
   ]
  },
  {
   "cell_type": "markdown",
   "metadata": {},
   "source": [
    "<p><span style=\"font-weight: 400;\">The data team is very satisfied with the initial analysis that they ran using the <strong><span style=\"color: #ff6600;\">SageMaker Notebook</span></strong>. They were able to create <span style=\"color: #3366ff;\">meaningful visualizations</span> and manipulate the data to better understand the hidden patterns behind the fraud cases. However, SageMaker Notebooks are a good tool for developers and data scientists. The <span style=\"color: #3366ff;\">management</span> is also interested in these insights and they don&rsquo;t want to start coding. The CEO and CTO expect the team to share their insights via dashboards, as well as develop more visualizations that will support the business operations such as: fraud cases over time.&nbsp;</span></p>\n",
    "<p><span style=\"font-weight: 400;\">The data science team chooses <strong><span style=\"color: #ff6600;\">AWS Quicksight</span></strong> as the BI tool! The tool connects to their existing Redshift cluster and enables the creation of <strong><span style=\"color: #339966;\">informative dashboards with fantastic design</span></strong>.</span></p>"
   ]
  },
  {
   "cell_type": "markdown",
   "metadata": {},
   "source": [
    "<img src=\"imgs/quicksight_2.png\"/>\n"
   ]
  },
  {
   "cell_type": "markdown",
   "metadata": {},
   "source": [
    "\n",
    "<br>\n",
    "<br>\n",
    "<br>\n"
   ]
  },
  {
   "cell_type": "markdown",
   "metadata": {},
   "source": [
    "## Time series dashboards"
   ]
  },
  {
   "cell_type": "markdown",
   "metadata": {},
   "source": [
    "<p><span style=\"font-weight: 400;\">When the underlying data will be <strong><span style=\"color: #0000ff;\">updated</span></strong> with new records the dashboard will be updated as well, showing the management whether they are successful in reducing the fraud rate while monitoring additional <strong><span style=\"color: #ff0000;\">KPIs</span></strong> like the total number of transactions or the <span style=\"color: #339966;\">average transaction amount</span> over a period of time.</span></p>"
   ]
  },
  {
   "cell_type": "markdown",
   "metadata": {},
   "source": [
    "<img src=\"./imgs/quicksight_1.png\">\n"
   ]
  }
 ],
 "metadata": {
  "kernelspec": {
   "display_name": "conda_python3",
   "language": "python",
   "name": "conda_python3"
  },
  "language_info": {
   "codemirror_mode": {
    "name": "ipython",
    "version": 3
   },
   "file_extension": ".py",
   "mimetype": "text/x-python",
   "name": "python",
   "nbconvert_exporter": "python",
   "pygments_lexer": "ipython3",
   "version": "3.6.10"
  }
 },
 "nbformat": 4,
 "nbformat_minor": 4 
}
