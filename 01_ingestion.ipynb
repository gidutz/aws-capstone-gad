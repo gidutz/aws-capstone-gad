{
 "cells": [
  {
   "cell_type": "code",
   "execution_count": 8,
   "metadata": {},
   "outputs": [],
   "source": [
    "import pandas as pd"
   ]
  },
  {
   "cell_type": "code",
   "execution_count": 16,
   "metadata": {},
   "outputs": [],
   "source": [
    "df = pd.read_csv('./data/PS_20174392719_1491204439457_log.csv', nrows=1000)"
   ]
  },
  {
   "cell_type": "code",
   "execution_count": 20,
   "metadata": {},
   "outputs": [
    {
     "name": "stdout",
     "output_type": "stream",
     "text": [
      "CREATE TABLE \"raw_data\" (\n",
      "\"step\" INTEGER,\n",
      "  \"type\" TEXT,\n",
      "  \"amount\" REAL,\n",
      "  \"nameOrig\" TEXT,\n",
      "  \"oldbalanceOrg\" REAL,\n",
      "  \"newbalanceOrig\" REAL,\n",
      "  \"nameDest\" TEXT,\n",
      "  \"oldbalanceDest\" REAL,\n",
      "  \"newbalanceDest\" REAL,\n",
      "  \"isFraud\" INTEGER,\n",
      "  \"isFlaggedFraud\" INTEGER\n",
      ")\n"
     ]
    }
   ],
   "source": [
    "print(pd.io.sql.get_schema(df, 'raw_data'))"
   ]
  },
  {
   "cell_type": "code",
   "execution_count": null,
   "metadata": {},
   "outputs": [],
   "source": [
    "# Connect to Redshift and load the data"
   ]
  },
  {
   "cell_type": "code",
   "execution_count": null,
   "metadata": {},
   "outputs": [],
   "source": [
    "copy raw_data from 's3://gad-aws-blackbelt/raw_data/PS_20174392719_1491204439457_log.csv' \n",
    "iam_role 'arn:aws:iam::404163662382:role/RedshiftRoleGad' \n",
    "IGNOREHEADER 1 DELIMITER ',' ;"
   ]
  }
 ],
 "metadata": {
  "environment": {
   "name": "common-cpu.m59",
   "type": "gcloud",
   "uri": "gcr.io/deeplearning-platform-release/base-cpu:m59"
  },
  "kernelspec": {
   "display_name": "conda_python3",
   "language": "python",
   "name": "conda_python3"
  },
  "language_info": {
   "codemirror_mode": {
    "name": "ipython",
    "version": 3
   },
   "file_extension": ".py",
   "mimetype": "text/x-python",
   "name": "python",
   "nbconvert_exporter": "python",
   "pygments_lexer": "ipython3",
   "version": "3.6.10"
  }
 },
 "nbformat": 4,
 "nbformat_minor": 4
}
